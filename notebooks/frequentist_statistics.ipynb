{
 "cells": [
  {
   "cell_type": "markdown",
   "id": "wanted-session",
   "metadata": {},
   "source": [
    "# Using `frequentist_statistics` functions from the `jmspack` package"
   ]
  },
  {
   "cell_type": "markdown",
   "id": "inner-suspension",
   "metadata": {
    "tags": []
   },
   "source": [
    "## Showing the usage of the following `frequentist_statistics` functions\n",
    "\n",
    "- normal_check()\n",
    "- correlation_analysis()\n",
    "- correlations_as_sample_increases()\n",
    "- multiple_univariate_OLSs()\n",
    "- potential_for_change_index()"
   ]
  },
  {
   "cell_type": "code",
   "execution_count": 1,
   "id": "united-custom",
   "metadata": {},
   "outputs": [],
   "source": [
    "import os\n",
    "tmp = os.getcwd()\n",
    "os.chdir(tmp.split(\"jmspack\")[0] + \"jmspack\")"
   ]
  },
  {
   "cell_type": "code",
   "execution_count": 2,
   "id": "aerial-judges",
   "metadata": {},
   "outputs": [],
   "source": [
    "import numpy as np\n",
    "import pandas as pd\n",
    "import matplotlib.pyplot as plt\n",
    "import seaborn as sns\n",
    "from jmspack.frequentist_statistics import (normal_check, \n",
    "#                                             permute_test, \n",
    "                                            correlation_analysis,\n",
    "                                            correlations_as_sample_increases,\n",
    "                                            multiple_univariate_OLSs,\n",
    "                                            potential_for_change_index\n",
    "                                           )\n",
    "from jmspack.utils import apply_scaling\n",
    "import pingouin as pg\n",
    "import statsmodels.api as sm"
   ]
  },
  {
   "cell_type": "code",
   "execution_count": 3,
   "id": "further-product",
   "metadata": {},
   "outputs": [],
   "source": [
    "os.chdir(tmp)"
   ]
  },
  {
   "cell_type": "code",
   "execution_count": 4,
   "id": "yellow-pregnancy",
   "metadata": {},
   "outputs": [],
   "source": [
    "if \"jms_style_sheet\" in plt.style.available:\n",
    "    _ = plt.style.use(\"jms_style_sheet\")"
   ]
  },
  {
   "cell_type": "code",
   "execution_count": 5,
   "id": "greatest-darkness",
   "metadata": {},
   "outputs": [],
   "source": [
    "df = sns.load_dataset(\"iris\")#.head(10)"
   ]
  },
  {
   "cell_type": "markdown",
   "id": "controlled-hardwood",
   "metadata": {},
   "source": [
    "## normal_check()\n",
    "\n",
    "#### compare the distribution of numeric variables to a normal distribution using the Kolmogrov-Smirnov test"
   ]
  },
  {
   "cell_type": "code",
   "execution_count": 6,
   "id": "double-growth",
   "metadata": {},
   "outputs": [
    {
     "data": {
      "text/html": [
       "<div>\n",
       "<style scoped>\n",
       "    .dataframe tbody tr th:only-of-type {\n",
       "        vertical-align: middle;\n",
       "    }\n",
       "\n",
       "    .dataframe tbody tr th {\n",
       "        vertical-align: top;\n",
       "    }\n",
       "\n",
       "    .dataframe thead th {\n",
       "        text-align: right;\n",
       "    }\n",
       "</style>\n",
       "<table border=\"1\" class=\"dataframe\">\n",
       "  <thead>\n",
       "    <tr style=\"text-align: right;\">\n",
       "      <th></th>\n",
       "      <th>feature</th>\n",
       "      <th>p-value</th>\n",
       "      <th>normality</th>\n",
       "    </tr>\n",
       "  </thead>\n",
       "  <tbody>\n",
       "    <tr>\n",
       "      <th>0</th>\n",
       "      <td>sepal_length</td>\n",
       "      <td>0.170584</td>\n",
       "      <td>True</td>\n",
       "    </tr>\n",
       "    <tr>\n",
       "      <th>1</th>\n",
       "      <td>sepal_width</td>\n",
       "      <td>0.064491</td>\n",
       "      <td>True</td>\n",
       "    </tr>\n",
       "    <tr>\n",
       "      <th>2</th>\n",
       "      <td>petal_length</td>\n",
       "      <td>0.000011</td>\n",
       "      <td>False</td>\n",
       "    </tr>\n",
       "    <tr>\n",
       "      <th>3</th>\n",
       "      <td>petal_width</td>\n",
       "      <td>0.000200</td>\n",
       "      <td>False</td>\n",
       "    </tr>\n",
       "  </tbody>\n",
       "</table>\n",
       "</div>"
      ],
      "text/plain": [
       "        feature   p-value  normality\n",
       "0  sepal_length  0.170584       True\n",
       "1   sepal_width  0.064491       True\n",
       "2  petal_length  0.000011      False\n",
       "3   petal_width  0.000200      False"
      ]
     },
     "execution_count": 6,
     "metadata": {},
     "output_type": "execute_result"
    }
   ],
   "source": [
    "normal_check(df)"
   ]
  },
  {
   "cell_type": "markdown",
   "id": "optical-accident",
   "metadata": {},
   "source": [
    "## correlation_analysis()\n",
    "\n",
    "#### Run correlations for numerical features and return output in different formats"
   ]
  },
  {
   "cell_type": "code",
   "execution_count": 7,
   "id": "turkish-reviewer",
   "metadata": {},
   "outputs": [],
   "source": [
    "feature1 = \"sepal_length\"\n",
    "feature2 = \"petal_length\""
   ]
  },
  {
   "cell_type": "code",
   "execution_count": 8,
   "id": "equal-variation",
   "metadata": {},
   "outputs": [],
   "source": [
    "X = df[feature1]\n",
    "y = df[feature2]"
   ]
  },
  {
   "cell_type": "code",
   "execution_count": 9,
   "id": "asian-title",
   "metadata": {},
   "outputs": [],
   "source": [
    "output = correlation_analysis(data=df,\n",
    "                             check_norm=True,\n",
    "                              dropna = 'pairwise',\n",
    "                                permutation_test = False,\n",
    "                                n_permutations = 10,\n",
    "                                random_state=69420)"
   ]
  },
  {
   "cell_type": "code",
   "execution_count": 10,
   "id": "identical-start",
   "metadata": {},
   "outputs": [
    {
     "data": {
      "text/html": [
       "<div>\n",
       "<style scoped>\n",
       "    .dataframe tbody tr th:only-of-type {\n",
       "        vertical-align: middle;\n",
       "    }\n",
       "\n",
       "    .dataframe tbody tr th {\n",
       "        vertical-align: top;\n",
       "    }\n",
       "\n",
       "    .dataframe thead th {\n",
       "        text-align: right;\n",
       "    }\n",
       "</style>\n",
       "<table border=\"1\" class=\"dataframe\">\n",
       "  <thead>\n",
       "    <tr style=\"text-align: right;\">\n",
       "      <th></th>\n",
       "      <th>analysis</th>\n",
       "      <th>feature1</th>\n",
       "      <th>feature2</th>\n",
       "      <th>r-value</th>\n",
       "      <th>p-value</th>\n",
       "      <th>stat-sign</th>\n",
       "      <th>N</th>\n",
       "    </tr>\n",
       "  </thead>\n",
       "  <tbody>\n",
       "    <tr>\n",
       "      <th>0</th>\n",
       "      <td>Pearson</td>\n",
       "      <td>sepal_length</td>\n",
       "      <td>sepal_width</td>\n",
       "      <td>-0.1176</td>\n",
       "      <td>0.1519</td>\n",
       "      <td>False</td>\n",
       "      <td>150</td>\n",
       "    </tr>\n",
       "    <tr>\n",
       "      <th>1</th>\n",
       "      <td>Spearman Rank</td>\n",
       "      <td>sepal_length</td>\n",
       "      <td>petal_length</td>\n",
       "      <td>0.8819</td>\n",
       "      <td>0.0000</td>\n",
       "      <td>True</td>\n",
       "      <td>150</td>\n",
       "    </tr>\n",
       "    <tr>\n",
       "      <th>2</th>\n",
       "      <td>Spearman Rank</td>\n",
       "      <td>sepal_length</td>\n",
       "      <td>petal_width</td>\n",
       "      <td>0.8343</td>\n",
       "      <td>0.0000</td>\n",
       "      <td>True</td>\n",
       "      <td>150</td>\n",
       "    </tr>\n",
       "    <tr>\n",
       "      <th>3</th>\n",
       "      <td>Spearman Rank</td>\n",
       "      <td>sepal_width</td>\n",
       "      <td>petal_length</td>\n",
       "      <td>-0.3096</td>\n",
       "      <td>0.0001</td>\n",
       "      <td>True</td>\n",
       "      <td>150</td>\n",
       "    </tr>\n",
       "    <tr>\n",
       "      <th>4</th>\n",
       "      <td>Spearman Rank</td>\n",
       "      <td>sepal_width</td>\n",
       "      <td>petal_width</td>\n",
       "      <td>-0.2890</td>\n",
       "      <td>0.0003</td>\n",
       "      <td>True</td>\n",
       "      <td>150</td>\n",
       "    </tr>\n",
       "    <tr>\n",
       "      <th>5</th>\n",
       "      <td>Spearman Rank</td>\n",
       "      <td>petal_length</td>\n",
       "      <td>petal_width</td>\n",
       "      <td>0.9377</td>\n",
       "      <td>0.0000</td>\n",
       "      <td>True</td>\n",
       "      <td>150</td>\n",
       "    </tr>\n",
       "  </tbody>\n",
       "</table>\n",
       "</div>"
      ],
      "text/plain": [
       "        analysis      feature1      feature2  r-value  p-value  stat-sign    N\n",
       "0        Pearson  sepal_length   sepal_width  -0.1176   0.1519      False  150\n",
       "1  Spearman Rank  sepal_length  petal_length   0.8819   0.0000       True  150\n",
       "2  Spearman Rank  sepal_length   petal_width   0.8343   0.0000       True  150\n",
       "3  Spearman Rank   sepal_width  petal_length  -0.3096   0.0001       True  150\n",
       "4  Spearman Rank   sepal_width   petal_width  -0.2890   0.0003       True  150\n",
       "5  Spearman Rank  petal_length   petal_width   0.9377   0.0000       True  150"
      ]
     },
     "execution_count": 10,
     "metadata": {},
     "output_type": "execute_result"
    }
   ],
   "source": [
    "output[\"summary\"].round(4)"
   ]
  },
  {
   "cell_type": "markdown",
   "id": "compound-fifteen",
   "metadata": {},
   "source": [
    "## correlations_as_sample_increases()\n",
    "\n",
    "#### Run correlations for subparts of the data to check robustness"
   ]
  },
  {
   "cell_type": "code",
   "execution_count": 11,
   "id": "conventional-runner",
   "metadata": {},
   "outputs": [
    {
     "name": "stderr",
     "output_type": "stream",
     "text": [
      "findfont: Font family ['sans-serif'] not found. Falling back to DejaVu Sans.\n",
      "findfont: Font family ['sans-serif'] not found. Falling back to DejaVu Sans.\n"
     ]
    },
    {
     "data": {
      "image/png": "[encoded data removed]",
      "text/plain": [
       "<Figure size 900x400 with 1 Axes>"
      ]
     },
     "metadata": {},
     "output_type": "display_data"
    }
   ],
   "source": [
    "summary, fig = correlations_as_sample_increases(data=df.select_dtypes(\"number\"),\n",
    "                                 feature1=feature1,\n",
    "                                feature2=feature2,\n",
    "                                starting_N = 10,\n",
    "                                step = 10,\n",
    "                                method='pearson',\n",
    "                                random_state=42,\n",
    "                                bootstrap = True,\n",
    "                                bootstrap_per_N = 20,\n",
    "                                plot = True,\n",
    "                                addition_to_title = '',\n",
    "                                alpha = 0.05)"
   ]
  },
  {
   "cell_type": "markdown",
   "id": "military-simulation",
   "metadata": {},
   "source": [
    "## multiple_univariate_OLSs()\n",
    "\n",
    "#### Tmp"
   ]
  },
  {
   "cell_type": "code",
   "execution_count": 12,
   "id": "demographic-drink",
   "metadata": {},
   "outputs": [],
   "source": [
    "features_list = df.select_dtypes(float).columns.tolist()"
   ]
  },
  {
   "cell_type": "code",
   "execution_count": 13,
   "id": "sexual-highlight",
   "metadata": {},
   "outputs": [],
   "source": [
    "target = \"species_cat_codes\""
   ]
  },
  {
   "cell_type": "code",
   "execution_count": 14,
   "id": "partial-sleeve",
   "metadata": {},
   "outputs": [],
   "source": [
    "df=df.assign(**{target: lambda x: x[\"species\"].astype(\"category\").cat.codes})"
   ]
  },
  {
   "cell_type": "code",
   "execution_count": 15,
   "id": "prepared-demand",
   "metadata": {},
   "outputs": [],
   "source": [
    "X = df[features_list]\n",
    "y = df[target]"
   ]
  },
  {
   "cell_type": "code",
   "execution_count": 16,
   "id": "purple-crazy",
   "metadata": {},
   "outputs": [
    {
     "data": {
      "text/html": [
       "<div>\n",
       "<style scoped>\n",
       "    .dataframe tbody tr th:only-of-type {\n",
       "        vertical-align: middle;\n",
       "    }\n",
       "\n",
       "    .dataframe tbody tr th {\n",
       "        vertical-align: top;\n",
       "    }\n",
       "\n",
       "    .dataframe thead th {\n",
       "        text-align: right;\n",
       "    }\n",
       "</style>\n",
       "<table border=\"1\" class=\"dataframe\">\n",
       "  <thead>\n",
       "    <tr style=\"text-align: right;\">\n",
       "      <th></th>\n",
       "      <th>coef</th>\n",
       "      <th>std err</th>\n",
       "      <th>t</th>\n",
       "      <th>P&gt;|t|</th>\n",
       "      <th>[0.025</th>\n",
       "      <th>0.975]</th>\n",
       "      <th>rsquared</th>\n",
       "      <th>rsquared_adj</th>\n",
       "    </tr>\n",
       "  </thead>\n",
       "  <tbody>\n",
       "    <tr>\n",
       "      <th>sepal_length</th>\n",
       "      <td>0.7742</td>\n",
       "      <td>0.051</td>\n",
       "      <td>15.292</td>\n",
       "      <td>0.0</td>\n",
       "      <td>0.674</td>\n",
       "      <td>0.874</td>\n",
       "      <td>0.612402</td>\n",
       "      <td>0.609783</td>\n",
       "    </tr>\n",
       "    <tr>\n",
       "      <th>sepal_width</th>\n",
       "      <td>-0.8019</td>\n",
       "      <td>0.140</td>\n",
       "      <td>-5.739</td>\n",
       "      <td>0.0</td>\n",
       "      <td>-1.078</td>\n",
       "      <td>-0.526</td>\n",
       "      <td>0.182037</td>\n",
       "      <td>0.176510</td>\n",
       "    </tr>\n",
       "    <tr>\n",
       "      <th>petal_length</th>\n",
       "      <td>0.4404</td>\n",
       "      <td>0.012</td>\n",
       "      <td>36.632</td>\n",
       "      <td>0.0</td>\n",
       "      <td>0.417</td>\n",
       "      <td>0.464</td>\n",
       "      <td>0.900667</td>\n",
       "      <td>0.899996</td>\n",
       "    </tr>\n",
       "    <tr>\n",
       "      <th>petal_width</th>\n",
       "      <td>1.0281</td>\n",
       "      <td>0.026</td>\n",
       "      <td>39.910</td>\n",
       "      <td>0.0</td>\n",
       "      <td>0.977</td>\n",
       "      <td>1.079</td>\n",
       "      <td>0.914983</td>\n",
       "      <td>0.914408</td>\n",
       "    </tr>\n",
       "  </tbody>\n",
       "</table>\n",
       "</div>"
      ],
      "text/plain": [
       "                coef  std err       t  P>|t|  [0.025  0.975]  rsquared  \\\n",
       "sepal_length  0.7742    0.051  15.292    0.0   0.674   0.874  0.612402   \n",
       "sepal_width  -0.8019    0.140  -5.739    0.0  -1.078  -0.526  0.182037   \n",
       "petal_length  0.4404    0.012  36.632    0.0   0.417   0.464  0.900667   \n",
       "petal_width   1.0281    0.026  39.910    0.0   0.977   1.079  0.914983   \n",
       "\n",
       "              rsquared_adj  \n",
       "sepal_length      0.609783  \n",
       "sepal_width       0.176510  \n",
       "petal_length      0.899996  \n",
       "petal_width       0.914408  "
      ]
     },
     "execution_count": 16,
     "metadata": {},
     "output_type": "execute_result"
    }
   ],
   "source": [
    "OLS_df = multiple_univariate_OLSs(X=X, y=y, features_list=features_list)\n",
    "OLS_df"
   ]
  },
  {
   "cell_type": "code",
   "execution_count": 17,
   "id": "superb-actor",
   "metadata": {},
   "outputs": [
    {
     "data": {
      "image/png": "[encoded data removed]",
      "text/plain": [
       "<Figure size 500x500 with 1 Axes>"
      ]
     },
     "metadata": {},
     "output_type": "display_data"
    }
   ],
   "source": [
    "_ = sns.lmplot(data=df,\n",
    "               x=features_list[3],\n",
    "              y=target)"
   ]
  },
  {
   "cell_type": "markdown",
   "id": "higher-minute",
   "metadata": {},
   "source": [
    "## potential_for_change_index()\n",
    "\n",
    "#### Calculate the potential for change index based on either variants of the r-squared (from linear regression) or the r-value (pearson correlation)"
   ]
  },
  {
   "cell_type": "code",
   "execution_count": 18,
   "id": "greatest-mozambique",
   "metadata": {},
   "outputs": [
    {
     "data": {
      "text/html": [
       "<div>\n",
       "<style scoped>\n",
       "    .dataframe tbody tr th:only-of-type {\n",
       "        vertical-align: middle;\n",
       "    }\n",
       "\n",
       "    .dataframe tbody tr th {\n",
       "        vertical-align: top;\n",
       "    }\n",
       "\n",
       "    .dataframe thead th {\n",
       "        text-align: right;\n",
       "    }\n",
       "</style>\n",
       "<table border=\"1\" class=\"dataframe\">\n",
       "  <thead>\n",
       "    <tr style=\"text-align: right;\">\n",
       "      <th></th>\n",
       "      <th>sepal_length</th>\n",
       "      <th>sepal_width</th>\n",
       "      <th>petal_length</th>\n",
       "      <th>petal_width</th>\n",
       "      <th>species</th>\n",
       "      <th>species_cat_codes</th>\n",
       "    </tr>\n",
       "  </thead>\n",
       "  <tbody>\n",
       "    <tr>\n",
       "      <th>0</th>\n",
       "      <td>5.1</td>\n",
       "      <td>3.5</td>\n",
       "      <td>1.4</td>\n",
       "      <td>0.2</td>\n",
       "      <td>setosa</td>\n",
       "      <td>0</td>\n",
       "    </tr>\n",
       "    <tr>\n",
       "      <th>1</th>\n",
       "      <td>4.9</td>\n",
       "      <td>3.0</td>\n",
       "      <td>1.4</td>\n",
       "      <td>0.2</td>\n",
       "      <td>setosa</td>\n",
       "      <td>0</td>\n",
       "    </tr>\n",
       "    <tr>\n",
       "      <th>2</th>\n",
       "      <td>4.7</td>\n",
       "      <td>3.2</td>\n",
       "      <td>1.3</td>\n",
       "      <td>0.2</td>\n",
       "      <td>setosa</td>\n",
       "      <td>0</td>\n",
       "    </tr>\n",
       "    <tr>\n",
       "      <th>3</th>\n",
       "      <td>4.6</td>\n",
       "      <td>3.1</td>\n",
       "      <td>1.5</td>\n",
       "      <td>0.2</td>\n",
       "      <td>setosa</td>\n",
       "      <td>0</td>\n",
       "    </tr>\n",
       "    <tr>\n",
       "      <th>4</th>\n",
       "      <td>5.0</td>\n",
       "      <td>3.6</td>\n",
       "      <td>1.4</td>\n",
       "      <td>0.2</td>\n",
       "      <td>setosa</td>\n",
       "      <td>0</td>\n",
       "    </tr>\n",
       "  </tbody>\n",
       "</table>\n",
       "</div>"
      ],
      "text/plain": [
       "   sepal_length  sepal_width  petal_length  petal_width species  \\\n",
       "0           5.1          3.5           1.4          0.2  setosa   \n",
       "1           4.9          3.0           1.4          0.2  setosa   \n",
       "2           4.7          3.2           1.3          0.2  setosa   \n",
       "3           4.6          3.1           1.5          0.2  setosa   \n",
       "4           5.0          3.6           1.4          0.2  setosa   \n",
       "\n",
       "   species_cat_codes  \n",
       "0                  0  \n",
       "1                  0  \n",
       "2                  0  \n",
       "3                  0  \n",
       "4                  0  "
      ]
     },
     "execution_count": 18,
     "metadata": {},
     "output_type": "execute_result"
    }
   ],
   "source": [
    "df.head()"
   ]
  },
  {
   "cell_type": "code",
   "execution_count": 19,
   "id": "protecting-convert",
   "metadata": {},
   "outputs": [
    {
     "data": {
      "image/png": "[encoded data removed]",
      "text/plain": [
       "<Figure size 100x300 with 2 Axes>"
      ]
     },
     "metadata": {},
     "output_type": "display_data"
    }
   ],
   "source": [
    "pot_df = potential_for_change_index(data=df.select_dtypes(\"number\"),\n",
    "                                    features_list=features_list,\n",
    "                                    target=target, \n",
    "                                    minimum_measure = \"min\",\n",
    "                                    centrality_measure = \"median\",\n",
    "                                    maximum_measure = \"max\",\n",
    "                                    weight_measure = \"rsquared_adj\",\n",
    "                                    scale_data = True,\n",
    "                                    pci_heatmap = True,\n",
    "                                    pci_heatmap_figsize = (1, 3)\n",
    "                                   )"
   ]
  },
  {
   "cell_type": "code",
   "execution_count": 20,
   "id": "acquired-assets",
   "metadata": {},
   "outputs": [
    {
     "data": {
      "text/html": [
       "<div>\n",
       "<style scoped>\n",
       "    .dataframe tbody tr th:only-of-type {\n",
       "        vertical-align: middle;\n",
       "    }\n",
       "\n",
       "    .dataframe tbody tr th {\n",
       "        vertical-align: top;\n",
       "    }\n",
       "\n",
       "    .dataframe thead th {\n",
       "        text-align: right;\n",
       "    }\n",
       "</style>\n",
       "<table border=\"1\" class=\"dataframe\">\n",
       "  <thead>\n",
       "    <tr style=\"text-align: right;\">\n",
       "      <th></th>\n",
       "      <th>PCI</th>\n",
       "      <th>min</th>\n",
       "      <th>median</th>\n",
       "      <th>max</th>\n",
       "      <th>rsquared_adj</th>\n",
       "      <th>P&gt;|t|</th>\n",
       "    </tr>\n",
       "  </thead>\n",
       "  <tbody>\n",
       "    <tr>\n",
       "      <th>sepal_length</th>\n",
       "      <td>0.356</td>\n",
       "      <td>0.0</td>\n",
       "      <td>0.417</td>\n",
       "      <td>1.0</td>\n",
       "      <td>0.610</td>\n",
       "      <td>0.0</td>\n",
       "    </tr>\n",
       "    <tr>\n",
       "      <th>petal_length</th>\n",
       "      <td>0.389</td>\n",
       "      <td>0.0</td>\n",
       "      <td>0.568</td>\n",
       "      <td>1.0</td>\n",
       "      <td>0.900</td>\n",
       "      <td>0.0</td>\n",
       "    </tr>\n",
       "    <tr>\n",
       "      <th>petal_width</th>\n",
       "      <td>0.457</td>\n",
       "      <td>0.0</td>\n",
       "      <td>0.500</td>\n",
       "      <td>1.0</td>\n",
       "      <td>0.914</td>\n",
       "      <td>0.0</td>\n",
       "    </tr>\n",
       "    <tr>\n",
       "      <th>sepal_width</th>\n",
       "      <td>0.074</td>\n",
       "      <td>0.0</td>\n",
       "      <td>0.417</td>\n",
       "      <td>1.0</td>\n",
       "      <td>0.177</td>\n",
       "      <td>0.0</td>\n",
       "    </tr>\n",
       "  </tbody>\n",
       "</table>\n",
       "</div>"
      ],
      "text/plain": [
       "                PCI  min  median  max  rsquared_adj  P>|t|\n",
       "sepal_length  0.356  0.0   0.417  1.0         0.610    0.0\n",
       "petal_length  0.389  0.0   0.568  1.0         0.900    0.0\n",
       "petal_width   0.457  0.0   0.500  1.0         0.914    0.0\n",
       "sepal_width   0.074  0.0   0.417  1.0         0.177    0.0"
      ]
     },
     "execution_count": 20,
     "metadata": {},
     "output_type": "execute_result"
    }
   ],
   "source": [
    "pot_df.round(3)"
   ]
  },
  {
   "cell_type": "code",
   "execution_count": 21,
   "id": "mexican-spank",
   "metadata": {},
   "outputs": [
    {
     "data": {
      "image/png": "[encoded data removed]",
      "text/plain": [
       "<Figure size 100x300 with 2 Axes>"
      ]
     },
     "metadata": {},
     "output_type": "display_data"
    }
   ],
   "source": [
    "pot_df = potential_for_change_index(data=df.select_dtypes(\"number\"),\n",
    "                                    features_list=features_list,\n",
    "                                    target=target, \n",
    "                                    minimum_measure = \"min\",\n",
    "                                    centrality_measure = \"median\",\n",
    "                                    maximum_measure = \"max\",\n",
    "                                    weight_measure = \"rsquared\",\n",
    "                                    scale_data = False,\n",
    "                                    pci_heatmap = True,\n",
    "                                    pci_heatmap_figsize = (1, 3)\n",
    "                                   )"
   ]
  },
  {
   "cell_type": "code",
   "execution_count": 22,
   "id": "designing-cheese",
   "metadata": {},
   "outputs": [
    {
     "data": {
      "text/html": [
       "<div>\n",
       "<style scoped>\n",
       "    .dataframe tbody tr th:only-of-type {\n",
       "        vertical-align: middle;\n",
       "    }\n",
       "\n",
       "    .dataframe tbody tr th {\n",
       "        vertical-align: top;\n",
       "    }\n",
       "\n",
       "    .dataframe thead th {\n",
       "        text-align: right;\n",
       "    }\n",
       "</style>\n",
       "<table border=\"1\" class=\"dataframe\">\n",
       "  <thead>\n",
       "    <tr style=\"text-align: right;\">\n",
       "      <th></th>\n",
       "      <th>PCI</th>\n",
       "      <th>min</th>\n",
       "      <th>median</th>\n",
       "      <th>max</th>\n",
       "      <th>rsquared</th>\n",
       "      <th>P&gt;|t|</th>\n",
       "    </tr>\n",
       "  </thead>\n",
       "  <tbody>\n",
       "    <tr>\n",
       "      <th>sepal_length</th>\n",
       "      <td>1.286</td>\n",
       "      <td>4.3</td>\n",
       "      <td>5.80</td>\n",
       "      <td>7.9</td>\n",
       "      <td>0.612</td>\n",
       "      <td>0.0</td>\n",
       "    </tr>\n",
       "    <tr>\n",
       "      <th>petal_length</th>\n",
       "      <td>2.297</td>\n",
       "      <td>1.0</td>\n",
       "      <td>4.35</td>\n",
       "      <td>6.9</td>\n",
       "      <td>0.901</td>\n",
       "      <td>0.0</td>\n",
       "    </tr>\n",
       "    <tr>\n",
       "      <th>petal_width</th>\n",
       "      <td>1.098</td>\n",
       "      <td>0.1</td>\n",
       "      <td>1.30</td>\n",
       "      <td>2.5</td>\n",
       "      <td>0.915</td>\n",
       "      <td>0.0</td>\n",
       "    </tr>\n",
       "    <tr>\n",
       "      <th>sepal_width</th>\n",
       "      <td>0.182</td>\n",
       "      <td>2.0</td>\n",
       "      <td>3.00</td>\n",
       "      <td>4.4</td>\n",
       "      <td>0.182</td>\n",
       "      <td>0.0</td>\n",
       "    </tr>\n",
       "  </tbody>\n",
       "</table>\n",
       "</div>"
      ],
      "text/plain": [
       "                PCI  min  median  max  rsquared  P>|t|\n",
       "sepal_length  1.286  4.3    5.80  7.9     0.612    0.0\n",
       "petal_length  2.297  1.0    4.35  6.9     0.901    0.0\n",
       "petal_width   1.098  0.1    1.30  2.5     0.915    0.0\n",
       "sepal_width   0.182  2.0    3.00  4.4     0.182    0.0"
      ]
     },
     "execution_count": 22,
     "metadata": {},
     "output_type": "execute_result"
    }
   ],
   "source": [
    "pot_df.round(3)"
   ]
  },
  {
   "cell_type": "code",
   "execution_count": 23,
   "id": "spread-lightweight",
   "metadata": {},
   "outputs": [
    {
     "data": {
      "image/png": "[encoded data removed]",
      "text/plain": [
       "<Figure size 100x300 with 2 Axes>"
      ]
     },
     "metadata": {},
     "output_type": "display_data"
    }
   ],
   "source": [
    "pot_df = potential_for_change_index(data=df.select_dtypes(\"number\"),\n",
    "                                    features_list=features_list,\n",
    "                                    target=target, \n",
    "                                    minimum_measure = \"min\",\n",
    "                                    centrality_measure = \"mean\",\n",
    "                                    maximum_measure = \"max\",\n",
    "                                    weight_measure = \"r-value\",\n",
    "                                    scale_data = False,\n",
    "                                    pci_heatmap = True,\n",
    "                                    pci_heatmap_figsize = (1, 3)\n",
    "                                   )"
   ]
  },
  {
   "cell_type": "code",
   "execution_count": 24,
   "id": "listed-gathering",
   "metadata": {},
   "outputs": [
    {
     "data": {
      "text/html": [
       "<div>\n",
       "<style scoped>\n",
       "    .dataframe tbody tr th:only-of-type {\n",
       "        vertical-align: middle;\n",
       "    }\n",
       "\n",
       "    .dataframe tbody tr th {\n",
       "        vertical-align: top;\n",
       "    }\n",
       "\n",
       "    .dataframe thead th {\n",
       "        text-align: right;\n",
       "    }\n",
       "</style>\n",
       "<table border=\"1\" class=\"dataframe\">\n",
       "  <thead>\n",
       "    <tr style=\"text-align: right;\">\n",
       "      <th></th>\n",
       "      <th>PCI</th>\n",
       "      <th>min</th>\n",
       "      <th>mean</th>\n",
       "      <th>max</th>\n",
       "      <th>r-value</th>\n",
       "      <th>p-value</th>\n",
       "    </tr>\n",
       "  </thead>\n",
       "  <tbody>\n",
       "    <tr>\n",
       "      <th>petal_length</th>\n",
       "      <td>2.982</td>\n",
       "      <td>1.0</td>\n",
       "      <td>3.758</td>\n",
       "      <td>6.9</td>\n",
       "      <td>0.949</td>\n",
       "      <td>0.0</td>\n",
       "    </tr>\n",
       "    <tr>\n",
       "      <th>sepal_length</th>\n",
       "      <td>1.609</td>\n",
       "      <td>4.3</td>\n",
       "      <td>5.843</td>\n",
       "      <td>7.9</td>\n",
       "      <td>0.783</td>\n",
       "      <td>0.0</td>\n",
       "    </tr>\n",
       "    <tr>\n",
       "      <th>petal_width</th>\n",
       "      <td>1.244</td>\n",
       "      <td>0.1</td>\n",
       "      <td>1.199</td>\n",
       "      <td>2.5</td>\n",
       "      <td>0.957</td>\n",
       "      <td>0.0</td>\n",
       "    </tr>\n",
       "    <tr>\n",
       "      <th>sepal_width</th>\n",
       "      <td>-0.451</td>\n",
       "      <td>2.0</td>\n",
       "      <td>3.057</td>\n",
       "      <td>4.4</td>\n",
       "      <td>-0.427</td>\n",
       "      <td>0.0</td>\n",
       "    </tr>\n",
       "  </tbody>\n",
       "</table>\n",
       "</div>"
      ],
      "text/plain": [
       "                PCI  min   mean  max  r-value  p-value\n",
       "petal_length  2.982  1.0  3.758  6.9    0.949      0.0\n",
       "sepal_length  1.609  4.3  5.843  7.9    0.783      0.0\n",
       "petal_width   1.244  0.1  1.199  2.5    0.957      0.0\n",
       "sepal_width  -0.451  2.0  3.057  4.4   -0.427      0.0"
      ]
     },
     "execution_count": 24,
     "metadata": {},
     "output_type": "execute_result"
    }
   ],
   "source": [
    "pot_df.sort_values(by=\"PCI\", ascending=False).round(3)"
   ]
  }
 ],
 "metadata": {
  "kernelspec": {
   "display_name": "jmspack",
   "language": "python",
   "name": "jmspack"
  },
  "language_info": {
   "codemirror_mode": {
    "name": "ipython",
    "version": 3
   },
   "file_extension": ".py",
   "mimetype": "text/x-python",
   "name": "python",
   "nbconvert_exporter": "python",
   "pygments_lexer": "ipython3",
   "version": "3.8.8"
  }
 },
 "nbformat": 4,
 "nbformat_minor": 5
}
