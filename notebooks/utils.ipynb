{
 "cells": [
  {
   "cell_type": "markdown",
   "id": "be084358-8727-41a9-9160-a02851ef7201",
   "metadata": {},
   "source": [
    "# Using `utils` functions from the `jmspack` package"
   ]
  },
  {
   "cell_type": "markdown",
   "id": "892454c0-f49c-4512-802d-c1a9b68c9c6a",
   "metadata": {
    "tags": []
   },
   "source": [
    "## Showing the usage of the following utils functions\n",
    "\n",
    "- JmsColors\n",
    "- apply_scaling()\n",
    "- flatten()"
   ]
  },
  {
   "cell_type": "code",
   "execution_count": 1,
   "id": "8bb2a0b9-b605-47cd-87b4-7991f6b82e4c",
   "metadata": {},
   "outputs": [],
   "source": [
    "import os\n",
    "tmp = os.getcwd()\n",
    "os.chdir(tmp.split(\"jmspack\")[0] + \"jmspack\")"
   ]
  },
  {
   "cell_type": "code",
   "execution_count": 2,
   "id": "8646bc24-fd1b-45a9-a045-d5df2e6c95ca",
   "metadata": {},
   "outputs": [],
   "source": [
    "import pandas as pd\n",
    "import matplotlib.pyplot as plt\n",
    "import seaborn as sns\n",
    "from jmspack.utils import (JmsColors,\n",
    "                           apply_scaling,\n",
    "                           flatten,\n",
    "                          )"
   ]
  },
  {
   "cell_type": "code",
   "execution_count": 3,
   "id": "23bc31bf-b089-4f86-9e2d-b6e8eba48eb9",
   "metadata": {},
   "outputs": [],
   "source": [
    "os.chdir(tmp)"
   ]
  },
  {
   "cell_type": "markdown",
   "id": "b2266d6e-1fdc-4a75-b500-c4bce08762c1",
   "metadata": {},
   "source": [
    "## JmsColors"
   ]
  },
  {
   "cell_type": "markdown",
   "id": "405ba5bf-f963-4f69-9221-137bcd2856b4",
   "metadata": {},
   "source": [
    "#### get_names(): returns a list of the color names e.g. [PURPLE, DARKBLUE, etc.]"
   ]
  },
  {
   "cell_type": "code",
   "execution_count": 4,
   "id": "e7a0cf7e-13e8-4fda-ac00-03411ba2bb8d",
   "metadata": {},
   "outputs": [
    {
     "data": {
      "text/plain": [
       "['PURPLE',\n",
       " 'DARKBLUE',\n",
       " 'BLUEGREEN',\n",
       " 'GREENBLUE',\n",
       " 'GREENYELLOW',\n",
       " 'YELLOW',\n",
       " 'DARKGREY',\n",
       " 'MEDIUMGREY',\n",
       " 'LIGHTGREY',\n",
       " 'OFFWHITE']"
      ]
     },
     "execution_count": 4,
     "metadata": {},
     "output_type": "execute_result"
    }
   ],
   "source": [
    "JmsColors.get_names()"
   ]
  },
  {
   "cell_type": "markdown",
   "id": "51dcb7b7-ba38-473c-b2d2-ce222d4d00ec",
   "metadata": {
    "tags": []
   },
   "source": [
    "#### to_dict(): returns a dictionary of format {color name: hexcode}"
   ]
  },
  {
   "cell_type": "code",
   "execution_count": 5,
   "id": "11fbecf7-4193-4ba8-b372-6fd880dacacc",
   "metadata": {},
   "outputs": [
    {
     "data": {
      "text/plain": [
       "{'PURPLE': '#8f0fd4',\n",
       " 'DARKBLUE': '#0072e8',\n",
       " 'BLUEGREEN': '#009cdc',\n",
       " 'GREENBLUE': '#00c7b1',\n",
       " 'GREENYELLOW': '#71db5c',\n",
       " 'YELLOW': '#fcdd14',\n",
       " 'DARKGREY': '#282d32',\n",
       " 'MEDIUMGREY': '#808080',\n",
       " 'LIGHTGREY': '#b1b1b1',\n",
       " 'OFFWHITE': '#d5d5d5'}"
      ]
     },
     "execution_count": 5,
     "metadata": {},
     "output_type": "execute_result"
    }
   ],
   "source": [
    "JmsColors.to_dict()"
   ]
  },
  {
   "cell_type": "markdown",
   "id": "72cf17f2-06dc-488a-906d-11d9d8675cd8",
   "metadata": {
    "tags": []
   },
   "source": [
    "#### to_list(): returns a list of hexcodes"
   ]
  },
  {
   "cell_type": "code",
   "execution_count": 6,
   "id": "87772021-80b2-41a1-bf7e-fcff722429d3",
   "metadata": {},
   "outputs": [
    {
     "data": {
      "text/plain": [
       "['#8f0fd4',\n",
       " '#0072e8',\n",
       " '#009cdc',\n",
       " '#00c7b1',\n",
       " '#71db5c',\n",
       " '#fcdd14',\n",
       " '#282d32',\n",
       " '#808080',\n",
       " '#b1b1b1',\n",
       " '#d5d5d5']"
      ]
     },
     "execution_count": 6,
     "metadata": {},
     "output_type": "execute_result"
    }
   ],
   "source": [
    "JmsColors.to_list()"
   ]
  },
  {
   "cell_type": "markdown",
   "id": "cd113061-3864-4522-a0fd-1702e79b2200",
   "metadata": {
    "tags": []
   },
   "source": [
    "#### plot_colors(): returns a lineplot of all the available colours (like a color swatch)"
   ]
  },
  {
   "cell_type": "code",
   "execution_count": 7,
   "id": "178db147-55a3-431f-b294-d260061db351",
   "metadata": {},
   "outputs": [
    {
     "data": {
      "image/png": "[encoded data removed]",
      "text/plain": [
       "<Figure size 432x288 with 1 Axes>"
      ]
     },
     "metadata": {
      "needs_background": "light"
     },
     "output_type": "display_data"
    }
   ],
   "source": [
    "JmsColors.plot_colors()"
   ]
  },
  {
   "cell_type": "markdown",
   "id": "169b0ba6-4d56-4612-9170-525bd57a2340",
   "metadata": {},
   "source": [
    "## apply_scaling(): a utility function to be used in conjunction with pandas pipe() to scale columns of a data frame seperately"
   ]
  },
  {
   "cell_type": "markdown",
   "id": "f6498043-d806-44b5-97d5-fd98f8631094",
   "metadata": {},
   "source": [
    "#### Create dataset (dataset loaded from seaborn datasets)"
   ]
  },
  {
   "cell_type": "code",
   "execution_count": 8,
   "id": "32857c57-4c2d-47f8-8a59-11f1406afc3e",
   "metadata": {},
   "outputs": [
    {
     "data": {
      "text/html": [
       "<div>\n",
       "<style scoped>\n",
       "    .dataframe tbody tr th:only-of-type {\n",
       "        vertical-align: middle;\n",
       "    }\n",
       "\n",
       "    .dataframe tbody tr th {\n",
       "        vertical-align: top;\n",
       "    }\n",
       "\n",
       "    .dataframe thead th {\n",
       "        text-align: right;\n",
       "    }\n",
       "</style>\n",
       "<table border=\"1\" class=\"dataframe\">\n",
       "  <thead>\n",
       "    <tr style=\"text-align: right;\">\n",
       "      <th></th>\n",
       "      <th>sepal_length</th>\n",
       "      <th>sepal_width</th>\n",
       "      <th>petal_length</th>\n",
       "      <th>petal_width</th>\n",
       "      <th>species</th>\n",
       "    </tr>\n",
       "  </thead>\n",
       "  <tbody>\n",
       "    <tr>\n",
       "      <th>0</th>\n",
       "      <td>5.1</td>\n",
       "      <td>3.5</td>\n",
       "      <td>1.4</td>\n",
       "      <td>0.2</td>\n",
       "      <td>setosa</td>\n",
       "    </tr>\n",
       "    <tr>\n",
       "      <th>1</th>\n",
       "      <td>4.9</td>\n",
       "      <td>3.0</td>\n",
       "      <td>1.4</td>\n",
       "      <td>0.2</td>\n",
       "      <td>setosa</td>\n",
       "    </tr>\n",
       "  </tbody>\n",
       "</table>\n",
       "</div>"
      ],
      "text/plain": [
       "   sepal_length  sepal_width  petal_length  petal_width species\n",
       "0           5.1          3.5           1.4          0.2  setosa\n",
       "1           4.9          3.0           1.4          0.2  setosa"
      ]
     },
     "execution_count": 8,
     "metadata": {},
     "output_type": "execute_result"
    }
   ],
   "source": [
    "df = sns.load_dataset(\"iris\")\n",
    "df.head(2)"
   ]
  },
  {
   "cell_type": "markdown",
   "id": "b13647f7-48e0-4d6b-998c-03ef9c943746",
   "metadata": {},
   "source": [
    "#### Plot dataframe without scaling"
   ]
  },
  {
   "cell_type": "code",
   "execution_count": 9,
   "id": "5b9eca9c-c9b9-4096-825b-d2025029a095",
   "metadata": {},
   "outputs": [
    {
     "data": {
      "image/png": "[encoded data removed]",
      "text/plain": [
       "<Figure size 1440x216 with 2 Axes>"
      ]
     },
     "metadata": {
      "needs_background": "light"
     },
     "output_type": "display_data"
    }
   ],
   "source": [
    "_ = plt.figure(figsize=(20, 3))\n",
    "_ = sns.heatmap(data=df\n",
    "                .select_dtypes(\"number\")\n",
    "                .T)"
   ]
  },
  {
   "cell_type": "markdown",
   "id": "ea939310-6ec4-426d-b32d-7bb953bd18d4",
   "metadata": {
    "tags": []
   },
   "source": [
    "#### Plot dataframe with MinMax scaling"
   ]
  },
  {
   "cell_type": "code",
   "execution_count": 10,
   "id": "46108cc6-ef9c-43a9-9ba1-5af14be412d5",
   "metadata": {},
   "outputs": [
    {
     "data": {
      "image/png": "[encoded data removed]",
      "text/plain": [
       "<Figure size 1440x216 with 2 Axes>"
      ]
     },
     "metadata": {
      "needs_background": "light"
     },
     "output_type": "display_data"
    }
   ],
   "source": [
    "_ = plt.figure(figsize=(20, 3))\n",
    "_ = sns.heatmap(data=df\n",
    "                .select_dtypes(\"number\")\n",
    "                .pipe(apply_scaling)\n",
    "                .T)"
   ]
  },
  {
   "cell_type": "markdown",
   "id": "3dc975d3-8744-4831-bc56-45d6377425d3",
   "metadata": {
    "tags": []
   },
   "source": [
    "#### Plot dataframe with Standard scaling"
   ]
  },
  {
   "cell_type": "code",
   "execution_count": 11,
   "id": "8275b190-4022-4a07-a43a-19682f01bcba",
   "metadata": {},
   "outputs": [
    {
     "data": {
      "image/png": "[encoded data removed]",
      "text/plain": [
       "<Figure size 1440x216 with 2 Axes>"
      ]
     },
     "metadata": {
      "needs_background": "light"
     },
     "output_type": "display_data"
    }
   ],
   "source": [
    "_ = plt.figure(figsize=(20, 3))\n",
    "_ = sns.heatmap(data=df\n",
    "                .select_dtypes(\"number\")\n",
    "                .pipe(apply_scaling, \"Standard\")\n",
    "                .T)"
   ]
  },
  {
   "cell_type": "code",
   "execution_count": null,
   "id": "d3e47dba-2d8f-44a1-b643-9a1c470c99da",
   "metadata": {},
   "outputs": [],
   "source": []
  }
 ],
 "metadata": {
  "kernelspec": {
   "display_name": "jmspack_env",
   "language": "python",
   "name": "jmspack_env"
  },
  "language_info": {
   "codemirror_mode": {
    "name": "ipython",
    "version": 3
   },
   "file_extension": ".py",
   "mimetype": "text/x-python",
   "name": "python",
   "nbconvert_exporter": "python",
   "pygments_lexer": "ipython3",
   "version": "3.9.7"
  }
 },
 "nbformat": 4,
 "nbformat_minor": 5
}
