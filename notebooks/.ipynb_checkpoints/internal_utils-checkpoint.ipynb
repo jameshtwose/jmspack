{
 "cells": [
  {
   "cell_type": "markdown",
   "metadata": {},
   "source": [
    "# Using `internal_utils` functions from the `jmspack` package"
   ]
  },
  {
   "cell_type": "markdown",
   "metadata": {
    "tags": []
   },
   "source": [
    "## Showing the usage of the following internal_utils functions\n",
    "\n",
    "- postgresql_data_extraction()\n",
    "- postgresql_table_names_list()\n",
    "- create_postgresql_table_based_on_df()\n",
    "- add_data_to_postgresql_table()\n",
    "- delete_postgresql_table()"
   ]
  },
  {
   "cell_type": "code",
   "execution_count": 1,
   "metadata": {},
   "outputs": [],
   "source": [
    "import os\n",
    "tmp = os.getcwd()\n",
    "os.chdir(tmp.split(\"jmspack\")[0] + \"jmspack\")"
   ]
  },
  {
   "cell_type": "code",
   "execution_count": 2,
   "metadata": {},
   "outputs": [],
   "source": [
    "import psycopg2\n",
    "import pandas as pd\n",
    "from dotenv import load_dotenv, find_dotenv\n",
    "from jmspack.internal_utils import (postgresql_data_extraction,\n",
    "                                    postgresql_table_names_list,\n",
    "                                   create_postgresql_table_based_on_df,\n",
    "                                    add_data_to_postgresql_table,\n",
    "                                   delete_postgresql_table)"
   ]
  },
  {
   "cell_type": "code",
   "execution_count": null,
   "metadata": {},
   "outputs": [],
   "source": [
    "os.chdir(tmp)"
   ]
  },
  {
   "cell_type": "code",
   "execution_count": 3,
   "metadata": {},
   "outputs": [
    {
     "data": {
      "text/plain": [
       "True"
      ]
     },
     "execution_count": 3,
     "metadata": {},
     "output_type": "execute_result"
    }
   ],
   "source": [
    "load_dotenv(find_dotenv())"
   ]
  },
  {
   "cell_type": "markdown",
   "metadata": {},
   "source": [
    "## Extract table names from an external postgresql database"
   ]
  },
  {
   "cell_type": "code",
   "execution_count": 4,
   "metadata": {},
   "outputs": [
    {
     "name": "stdout",
     "output_type": "stream",
     "text": [
      "could not connect to server: No such file or directory\n",
      "\tIs the server running locally and accepting\n",
      "\tconnections on Unix domain socket \"/tmp/.s.PGSQL.5432\"?\n",
      "\n"
     ]
    },
    {
     "data": {
      "text/plain": [
       "False"
      ]
     },
     "execution_count": 4,
     "metadata": {},
     "output_type": "execute_result"
    }
   ],
   "source": [
    "table_list = postgresql_table_names_list(database_name = 'tracker',\n",
    "                                         user='tracker',)\n",
    "table_list"
   ]
  },
  {
   "cell_type": "markdown",
   "metadata": {},
   "source": [
    "## Create an external postgresql table based on a pandas dataframe"
   ]
  },
  {
   "cell_type": "code",
   "execution_count": 5,
   "metadata": {},
   "outputs": [],
   "source": [
    "import seaborn as sns\n",
    "iris_df = sns.load_dataset(\"iris\")"
   ]
  },
  {
   "cell_type": "code",
   "execution_count": 6,
   "metadata": {},
   "outputs": [
    {
     "name": "stdout",
     "output_type": "stream",
     "text": [
      "could not connect to server: No such file or directory\n",
      "\tIs the server running locally and accepting\n",
      "\tconnections on Unix domain socket \"/tmp/.s.PGSQL.5432\"?\n",
      "\n"
     ]
    },
    {
     "data": {
      "text/plain": [
       "'CREATE TABLE iris_test (\\n                sepal_length float,\\nsepal_width float,\\npetal_length float,\\npetal_width float,\\nspecies text\\n    )'"
      ]
     },
     "execution_count": 6,
     "metadata": {},
     "output_type": "execute_result"
    }
   ],
   "source": [
    "create_postgresql_table_based_on_df(df=iris_df,\n",
    "                         database_name=\"tracker\",\n",
    "                             user=\"tracker\",\n",
    "                            table_name=\"iris_test\",\n",
    "                            )"
   ]
  },
  {
   "cell_type": "markdown",
   "metadata": {},
   "source": [
    "## Add data from a pandas dataframe to an external postgresql table"
   ]
  },
  {
   "cell_type": "code",
   "execution_count": 7,
   "metadata": {},
   "outputs": [
    {
     "name": "stdout",
     "output_type": "stream",
     "text": [
      "could not connect to server: No such file or directory\n",
      "\tIs the server running locally and accepting\n",
      "\tconnections on Unix domain socket \"/tmp/.s.PGSQL.5432\"?\n",
      "\n"
     ]
    },
    {
     "data": {
      "text/plain": [
       "'INSERT INTO iris_test (sepal_length, sepal_width, petal_length, petal_width, species) VALUES (%s, %s, %s, %s, %s)'"
      ]
     },
     "execution_count": 7,
     "metadata": {},
     "output_type": "execute_result"
    }
   ],
   "source": [
    "add_data_to_postgresql_table(df=iris_df,\n",
    "                         database_name=\"tracker\",\n",
    "                             user=\"tracker\",\n",
    "                            table_name=\"iris_test\",\n",
    "                            )"
   ]
  },
  {
   "cell_type": "markdown",
   "metadata": {},
   "source": [
    "## Read in data from an external postgresql database"
   ]
  },
  {
   "cell_type": "code",
   "execution_count": 8,
   "metadata": {},
   "outputs": [
    {
     "name": "stdout",
     "output_type": "stream",
     "text": [
      "I am unable to connect to the database\n"
     ]
    }
   ],
   "source": [
    "df = postgresql_data_extraction(table_name = 'sleep_data',\n",
    "                                database_name = 'tracker',\n",
    "                                user='tracker',)"
   ]
  },
  {
   "cell_type": "code",
   "execution_count": 9,
   "metadata": {},
   "outputs": [
    {
     "data": {
      "text/html": [
       "<div>\n",
       "<style scoped>\n",
       "    .dataframe tbody tr th:only-of-type {\n",
       "        vertical-align: middle;\n",
       "    }\n",
       "\n",
       "    .dataframe tbody tr th {\n",
       "        vertical-align: top;\n",
       "    }\n",
       "\n",
       "    .dataframe thead th {\n",
       "        text-align: right;\n",
       "    }\n",
       "</style>\n",
       "<table border=\"1\" class=\"dataframe\">\n",
       "  <thead>\n",
       "    <tr style=\"text-align: right;\">\n",
       "      <th></th>\n",
       "    </tr>\n",
       "  </thead>\n",
       "  <tbody>\n",
       "  </tbody>\n",
       "</table>\n",
       "</div>"
      ],
      "text/plain": [
       "Empty DataFrame\n",
       "Columns: []\n",
       "Index: []"
      ]
     },
     "execution_count": 9,
     "metadata": {},
     "output_type": "execute_result"
    }
   ],
   "source": [
    "df"
   ]
  },
  {
   "cell_type": "code",
   "execution_count": 10,
   "metadata": {},
   "outputs": [
    {
     "name": "stdout",
     "output_type": "stream",
     "text": [
      "I am unable to connect to the database\n"
     ]
    }
   ],
   "source": [
    "# df = postgresql_data_extraction(table_name = 'suggested_energy_intake',\n",
    "#                                 database_name = 'tracker',\n",
    "#                                 user='tracker',)\n",
    "\n",
    "df = postgresql_data_extraction(table_name = 'iris_test',\n",
    "                                database_name = 'tracker',\n",
    "                                user='tracker',)"
   ]
  },
  {
   "cell_type": "code",
   "execution_count": 11,
   "metadata": {},
   "outputs": [
    {
     "data": {
      "text/html": [
       "<div>\n",
       "<style scoped>\n",
       "    .dataframe tbody tr th:only-of-type {\n",
       "        vertical-align: middle;\n",
       "    }\n",
       "\n",
       "    .dataframe tbody tr th {\n",
       "        vertical-align: top;\n",
       "    }\n",
       "\n",
       "    .dataframe thead th {\n",
       "        text-align: right;\n",
       "    }\n",
       "</style>\n",
       "<table border=\"1\" class=\"dataframe\">\n",
       "  <thead>\n",
       "    <tr style=\"text-align: right;\">\n",
       "      <th></th>\n",
       "    </tr>\n",
       "  </thead>\n",
       "  <tbody>\n",
       "  </tbody>\n",
       "</table>\n",
       "</div>"
      ],
      "text/plain": [
       "Empty DataFrame\n",
       "Columns: []\n",
       "Index: []"
      ]
     },
     "execution_count": 11,
     "metadata": {},
     "output_type": "execute_result"
    }
   ],
   "source": [
    "df.head()"
   ]
  },
  {
   "cell_type": "markdown",
   "metadata": {},
   "source": [
    "## Delete an external postgresql database"
   ]
  },
  {
   "cell_type": "markdown",
   "metadata": {},
   "source": [
    "#### Printing table names before and after to check removal occurs"
   ]
  },
  {
   "cell_type": "code",
   "execution_count": 12,
   "metadata": {},
   "outputs": [
    {
     "name": "stdout",
     "output_type": "stream",
     "text": [
      "could not connect to server: No such file or directory\n",
      "\tIs the server running locally and accepting\n",
      "\tconnections on Unix domain socket \"/tmp/.s.PGSQL.5432\"?\n",
      "\n"
     ]
    },
    {
     "data": {
      "text/plain": [
       "False"
      ]
     },
     "execution_count": 12,
     "metadata": {},
     "output_type": "execute_result"
    }
   ],
   "source": [
    "postgresql_table_names_list(database_name = 'tracker',\n",
    "                                         user='tracker',)"
   ]
  },
  {
   "cell_type": "code",
   "execution_count": 13,
   "metadata": {},
   "outputs": [
    {
     "name": "stdout",
     "output_type": "stream",
     "text": [
      "could not connect to server: No such file or directory\n",
      "\tIs the server running locally and accepting\n",
      "\tconnections on Unix domain socket \"/tmp/.s.PGSQL.5432\"?\n",
      "\n"
     ]
    },
    {
     "data": {
      "text/plain": [
       "'iris_test has been deleted from tracker'"
      ]
     },
     "execution_count": 13,
     "metadata": {},
     "output_type": "execute_result"
    }
   ],
   "source": [
    "delete_postgresql_table(database_name=\"tracker\",\n",
    "                             user=\"tracker\",\n",
    "                            table_name=\"iris_test\",)"
   ]
  },
  {
   "cell_type": "code",
   "execution_count": 14,
   "metadata": {},
   "outputs": [
    {
     "name": "stdout",
     "output_type": "stream",
     "text": [
      "could not connect to server: No such file or directory\n",
      "\tIs the server running locally and accepting\n",
      "\tconnections on Unix domain socket \"/tmp/.s.PGSQL.5432\"?\n",
      "\n"
     ]
    },
    {
     "data": {
      "text/plain": [
       "False"
      ]
     },
     "execution_count": 14,
     "metadata": {},
     "output_type": "execute_result"
    }
   ],
   "source": [
    "postgresql_table_names_list(database_name = 'tracker',\n",
    "                                         user='tracker',)"
   ]
  }
 ],
 "metadata": {
  "kernelspec": {
   "display_name": "jmspack_env",
   "language": "python",
   "name": "jmspack_env"
  },
  "language_info": {
   "codemirror_mode": {
    "name": "ipython",
    "version": 3
   },
   "file_extension": ".py",
   "mimetype": "text/x-python",
   "name": "python",
   "nbconvert_exporter": "python",
   "pygments_lexer": "ipython3",
   "version": "3.9.7"
  }
 },
 "nbformat": 4,
 "nbformat_minor": 4
}
