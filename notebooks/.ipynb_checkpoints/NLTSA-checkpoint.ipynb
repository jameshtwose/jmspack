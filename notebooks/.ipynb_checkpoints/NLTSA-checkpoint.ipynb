{
 "cells": [
  {
   "cell_type": "markdown",
   "metadata": {},
   "source": [
    "# Using `NLTSA` functions from the `jmspack` package"
   ]
  },
  {
   "cell_type": "markdown",
   "metadata": {},
   "source": [
    "## Showing the usage of the following NLTSA functions\n",
    "\n",
    "- fluctuation_intensity(): run fluctuation intensity on a time series to detect non linear change\n",
    "- distribution_uniformity(): run distribution uniformity on a time series to detect non linear change\n",
    "- complexity_resonance(): the product of fluctuation_intensity and distribution_uniformity\n",
    "- complexity_resonance_diagram(): plots a heatmap of the complexity_resonance\n",
    "- ts_levels(): defines distinct levels in a time series based on decision tree regressor\n",
    "- cumulative_complexity_peaks(): a function which will calculate the significant peaks in the dynamic\n",
    "  complexity of a set of time series (these peaks are known as cumulative complexity peaks; CCPs)"
   ]
  },
  {
   "cell_type": "code",
   "execution_count": 1,
   "metadata": {},
   "outputs": [],
   "source": [
    "# import os\n",
    "# tmp = os.getcwd()\n",
    "# os.chdir(tmp.split(\"jmspack\")[0] + \"jmspack\")"
   ]
  },
  {
   "cell_type": "code",
   "execution_count": 2,
   "metadata": {},
   "outputs": [],
   "source": [
    "# os.getcwd()"
   ]
  },
  {
   "cell_type": "code",
   "execution_count": 3,
   "metadata": {},
   "outputs": [
    {
     "ename": "ModuleNotFoundError",
     "evalue": "No module named 'jmspack'",
     "output_type": "error",
     "traceback": [
      "\u001b[0;31m---------------------------------------------------------------------------\u001b[0m",
      "\u001b[0;31mModuleNotFoundError\u001b[0m                       Traceback (most recent call last)",
      "\u001b[0;32m<ipython-input-3-1f022979dc3c>\u001b[0m in \u001b[0;36m<module>\u001b[0;34m\u001b[0m\n\u001b[1;32m      5\u001b[0m \u001b[0;32mfrom\u001b[0m \u001b[0msklearn\u001b[0m\u001b[0;34m.\u001b[0m\u001b[0mpreprocessing\u001b[0m \u001b[0;32mimport\u001b[0m \u001b[0mMinMaxScaler\u001b[0m\u001b[0;34m\u001b[0m\u001b[0;34m\u001b[0m\u001b[0m\n\u001b[1;32m      6\u001b[0m \u001b[0;34m\u001b[0m\u001b[0m\n\u001b[0;32m----> 7\u001b[0;31m from jmspack.NLTSA import (ts_levels, \n\u001b[0m\u001b[1;32m      8\u001b[0m                            \u001b[0mdistribution_uniformity\u001b[0m\u001b[0;34m,\u001b[0m\u001b[0;34m\u001b[0m\u001b[0;34m\u001b[0m\u001b[0m\n\u001b[1;32m      9\u001b[0m                            \u001b[0mfluctuation_intensity\u001b[0m\u001b[0;34m,\u001b[0m\u001b[0;34m\u001b[0m\u001b[0;34m\u001b[0m\u001b[0m\n",
      "\u001b[0;31mModuleNotFoundError\u001b[0m: No module named 'jmspack'"
     ]
    }
   ],
   "source": [
    "import numpy as np\n",
    "import pandas as pd\n",
    "import matplotlib.pyplot as plt\n",
    "import seaborn as sns\n",
    "from sklearn.preprocessing import MinMaxScaler\n",
    "\n",
    "from jmspack.NLTSA import (ts_levels, \n",
    "                           distribution_uniformity, \n",
    "                           fluctuation_intensity, \n",
    "                           complexity_resonance, \n",
    "                           complexity_resonance_diagram,\n",
    "                          cumulative_complexity_peaks,\n",
    "                          cumulative_complexity_peaks_plot)\n",
    "\n",
    "import jmspack"
   ]
  },
  {
   "cell_type": "code",
   "execution_count": null,
   "metadata": {},
   "outputs": [],
   "source": [
    "print(f\"The current version of 'jmspack' used in this notebook is: {jmspack.__version__}\")"
   ]
  },
  {
   "cell_type": "markdown",
   "metadata": {},
   "source": [
    "## Read in the time series dataset"
   ]
  },
  {
   "cell_type": "code",
   "execution_count": null,
   "metadata": {},
   "outputs": [],
   "source": [
    "ts_df = pd.read_csv(\"datasets/time_series_dataset.csv\", index_col=0)\n",
    "ts_df.head()"
   ]
  },
  {
   "cell_type": "code",
   "execution_count": null,
   "metadata": {},
   "outputs": [],
   "source": [
    "ts = ts_df[\"lorenz\"]"
   ]
  },
  {
   "cell_type": "markdown",
   "metadata": {},
   "source": [
    "## Calculate and plot the time series levels"
   ]
  },
  {
   "cell_type": "code",
   "execution_count": null,
   "metadata": {},
   "outputs": [],
   "source": [
    "ts_levels_df, fig, ax = ts_levels(ts, \n",
    "                                  ts_x=None, \n",
    "                                  criterion=\"mse\", \n",
    "                                  max_depth=10, \n",
    "                                  min_samples_leaf=1,\n",
    "                                  min_samples_split=2, \n",
    "                                  max_leaf_nodes=30, \n",
    "                                  plot=True, \n",
    "                                  equal_spaced=True, \n",
    "                                  n_x_ticks=10)"
   ]
  },
  {
   "cell_type": "code",
   "execution_count": null,
   "metadata": {},
   "outputs": [],
   "source": [
    "ts_levels_melt = ts_levels_df.melt(id_vars=\"t_steps\")\n",
    "ts_levels_melt.head(2)"
   ]
  },
  {
   "cell_type": "code",
   "execution_count": null,
   "metadata": {},
   "outputs": [],
   "source": [
    "_ = plt.figure(figsize=(20,7))\n",
    "_ = sns.lineplot(x=\"t_steps\", \n",
    "                 y=\"value\", \n",
    "                 hue=\"variable\", \n",
    "                 data=ts_levels_melt)"
   ]
  },
  {
   "cell_type": "markdown",
   "metadata": {},
   "source": [
    "## Scale and calculate and plot the distribution uniformity of the time series dataset"
   ]
  },
  {
   "cell_type": "code",
   "execution_count": null,
   "metadata": {},
   "outputs": [],
   "source": [
    "scaler = MinMaxScaler()\n",
    "\n",
    "scaled_ts_df = pd.DataFrame(scaler.fit_transform(ts_df), \n",
    "                            columns=ts_df.columns.tolist()).loc[0:200, :]\n",
    "\n",
    "distribution_uniformity_df = pd.DataFrame(distribution_uniformity(scaled_ts_df, \n",
    "                                                                  win=7, \n",
    "                                                                  xmin=0, \n",
    "                                                                  xmax=1, \n",
    "                                                                  col_first=1, \n",
    "                                                                  col_last=7)\n",
    "                                         )\n",
    "distribution_uniformity_df.columns=scaled_ts_df.columns.tolist()\n",
    "\n",
    "_ = complexity_resonance_diagram(distribution_uniformity_df,\n",
    "                                plot_title='Distribution Uniformity Diagram')"
   ]
  },
  {
   "cell_type": "markdown",
   "metadata": {},
   "source": [
    "## Calculate and plot the fluctuation intensity of the time series dataset"
   ]
  },
  {
   "cell_type": "code",
   "execution_count": null,
   "metadata": {},
   "outputs": [],
   "source": [
    "fluctuation_intensity_df = pd.DataFrame(fluctuation_intensity(scaled_ts_df, \n",
    "                                                              win=7, \n",
    "                                                              xmin=0, \n",
    "                                                              xmax=1, \n",
    "                                                              col_first=1, \n",
    "                                                              col_last=7)\n",
    "                                       )\n",
    "fluctuation_intensity_df.columns=scaled_ts_df.columns.tolist()\n",
    "\n",
    "_ = complexity_resonance_diagram(fluctuation_intensity_df,\n",
    "                                plot_title='Fluctuation Intensity Diagram')"
   ]
  },
  {
   "cell_type": "markdown",
   "metadata": {},
   "source": [
    "## Calculate and plot the complexity resonance of the time series dataset"
   ]
  },
  {
   "cell_type": "code",
   "execution_count": null,
   "metadata": {},
   "outputs": [],
   "source": [
    "complexity_resonance_df = complexity_resonance(distribution_uniformity_df, fluctuation_intensity_df)\n",
    "\n",
    "_ = complexity_resonance_diagram(complexity_resonance_df)"
   ]
  },
  {
   "cell_type": "markdown",
   "metadata": {},
   "source": [
    "## Calculate and plot the cumulative complexity peaks of the time series dataset"
   ]
  },
  {
   "cell_type": "code",
   "execution_count": null,
   "metadata": {},
   "outputs": [],
   "source": [
    "cumulative_complexity_peaks_df, significant_peaks_df = cumulative_complexity_peaks(df=complexity_resonance_df)"
   ]
  },
  {
   "cell_type": "code",
   "execution_count": null,
   "metadata": {},
   "outputs": [],
   "source": [
    "_ = cumulative_complexity_peaks_plot(cumulative_complexity_peaks_df=cumulative_complexity_peaks_df, \n",
    "                                     significant_peaks_df=significant_peaks_df)"
   ]
  }
 ],
 "metadata": {
  "kernelspec": {
   "display_name": "general",
   "language": "python",
   "name": "general"
  },
  "language_info": {
   "codemirror_mode": {
    "name": "ipython",
    "version": 3
   },
   "file_extension": ".py",
   "mimetype": "text/x-python",
   "name": "python",
   "nbconvert_exporter": "python",
   "pygments_lexer": "ipython3",
   "version": "3.9.2"
  }
 },
 "nbformat": 4,
 "nbformat_minor": 4
}
